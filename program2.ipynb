import cv2
import numpy as np
from matplotlib import pyplot as plt

# Load an image
image_path = 'drive/MyDrive/Vespa1.jpg'  # Ganti dengan path gambar Anda
image = cv2.imread(image_path)

# Convert the image from BGR to RGB
image_rgb = cv2.cvtColor(image, cv2.COLOR_BGR2RGB)

# Split the image into its Red, Green, and Blue channels
R, G, B = cv2.split(image_rgb)

# Create a zero matrix for visualization
zeros = np.zeros(image.shape[:2], dtype="uint8")

def uniform_mapping(channel):
    """Normalize intensity between 0 and 255."""
    return cv2.normalize(channel, None, 0, 255, cv2.NORM_MINMAX)

def logarithmic_mapping(channel):
    """Apply logarithmic mapping to the channel."""
    c = 255 / np.log(1 + np.max(channel))
    log_mapped = c * (np.log(channel + 1))
    return np.array(log_mapped, dtype=np.uint8)

# Apply Uniform and Logarithmic Mapping to each channel
R_uniform, G_uniform, B_uniform = (uniform_mapping(channel) for channel in (R, G, B))
R_log, G_log, B_log = (logarithmic_mapping(channel) for channel in (R, G, B))

# Visualize the R, G, B channels with Uniform and Logarithmic mappings
plt.figure(figsize=(15, 15))

# Function to plot channel images
def plot_channel(ax, image, title):
    ax.imshow(image)
    ax.set_title(title)
    ax.axis('off')

# Original Red channel
plot_channel(plt.subplot(3, 3, 1), cv2.merge([R, zeros, zeros]), 'Red Channel (Original)')
plot_channel(plt.subplot(3, 3, 2), cv2.merge([R_uniform, zeros, zeros]), 'Red Channel (Uniform Mapping)')
plot_channel(plt.subplot(3, 3, 3), cv2.merge([R_log, zeros, zeros]), 'Red Channel (Logarithmic Mapping)')

# Original Green channel
plot_channel(plt.subplot(3, 3, 4), cv2.merge([zeros, G, zeros]), 'Green Channel (Original)')
plot_channel(plt.subplot(3, 3, 5), cv2.merge([zeros, G_uniform, zeros]), 'Green Channel (Uniform Mapping)')
plot_channel(plt.subplot(3, 3, 6), cv2.merge([zeros, G_log, zeros]), 'Green Channel (Logarithmic Mapping)')

# Original Blue channel
plot_channel(plt.subplot(3, 3, 7), cv2.merge([zeros, zeros, B]), 'Blue Channel (Original)')
plot_channel(plt.subplot(3, 3, 8), cv2.merge([zeros, zeros, B_uniform]), 'Blue Channel (Uniform Mapping)')
plot_channel(plt.subplot(3, 3, 9), cv2.merge([zeros, zeros, B_log]), 'Blue Channel (Logarithmic Mapping)')

plt.show()
